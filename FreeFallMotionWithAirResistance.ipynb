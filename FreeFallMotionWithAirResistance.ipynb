{
  "nbformat": 4,
  "nbformat_minor": 0,
  "metadata": {
    "colab": {
      "provenance": []
    },
    "kernelspec": {
      "name": "python3",
      "display_name": "Python 3"
    },
    "language_info": {
      "name": "python"
    }
  },
  "cells": [
    {
      "cell_type": "markdown",
      "source": [
        "GERAK JATUH BENDA DENGAN HAMBATAN UDARA\n",
        "\n",
        "*   Rifqah Amaliyah (1301213241)\n",
        "*   Mutiara Maulicina C. C.  (1301213185)\n",
        "* Azis Khoirul Umam(1301213117)\n",
        "* Hadid Pilar Gautama(1301213297)\n",
        "* IF-45-DS01\n",
        "\n",
        "\n"
      ],
      "metadata": {
        "id": "vFZd2BsN9RO5"
      }
    },
    {
      "cell_type": "markdown",
      "source": [
        "# Soal :"
      ],
      "metadata": {
        "id": "nL70m3Zu-85K"
      }
    },
    {
      "cell_type": "markdown",
      "source": [
        "Sebuah benda jatuh dari suatu ketinggian tertentu di bumi, kenyataannya tidaklah hanya bergantung pada gaya gravitasi bumi saja. Pemodelan yang lebih realistis adalah bahwa laju perubahan kecepatan objek adalah selisih antara percepatan gravitasi dan gaya hambatan udara, yang secara proporsional berkurang seiring dengan peningkatan kecepatan objek. Model ini memberikan gambaran tentang bagaimana gerakan objek berubah seiring waktu ketika berada dalam kondisi jatuh bebas dengan hambatan udara.\n",
        "\n",
        "\n",
        "> Model 2 : a = (dv/dt) = -g+(k/m)v\n",
        "\n",
        "> Dengan menggunakan pada persamaan (2) diatas, simulasikan pergerakan objek yang dijatuhkan dari Helikopter dengan ketinggian awal, misal H. Simulasikan pergerakan objek yang dijatuhkan dari Helikopter dengan ketinggian awal, misal H. Lakukan langkah-langkah berikut dalam menyimulasikan gerak jatuh objek dengan Model-2.\n",
        "\n",
        "> 1. Tentukan benda yang dijatuhkan dan hitung massanya (m). Nilai konstanta hambatan udara k dapat diestimasi dengan formula: k≈0.775*A, dengan A adalah luas penampang melintang benda yang dijatuhkan. Juga tentukan nilai H sebagai posisi awal y(t=0)=H. Sedangkan konstanta gravitasi adalah 9.8 m/s^2.\n",
        "2. Tentukan solusi analitik (jika memungkinkan) untuk model tersebut. Petunjuk, silahkan cari melalui serource apapun termasuk internet untuk menentukan solusi posisi secara analitik pada model-2 dengan metode pemisahan variabel.\n",
        "3. Simulasi pergerakan objek per satuan waktu melalui pendekatan numerik.\n",
        "4. Bandingkan seberapa dekat solusi numerik dengan solusi analitik (jika ditemukan).\n",
        "5. \tLakukan analisis pengaruh nilai parameter (Δt,k,dan m,H) terhadap performa solusi numerik."
      ],
      "metadata": {
        "id": "qv4ZyotI9vDA"
      }
    },
    {
      "cell_type": "markdown",
      "source": [
        "\n",
        "\n",
        "---\n",
        "\n"
      ],
      "metadata": {
        "id": "zOUmHNzu-vs0"
      }
    },
    {
      "cell_type": "markdown",
      "source": [
        "# Solusi posisi secara analitik pada model-2 dengan metode pemisahan variabel."
      ],
      "metadata": {
        "id": "qaH4c2mtRuKS"
      }
    },
    {
      "cell_type": "markdown",
      "source": [
        "Untuk menemukan solusi analitik dari model yang diberikan, dengan menggunakan metode pemisahan variabel.Mencari solusi dari persamaan diferensial:\n",
        "\n",
        "(dv/dt) = -g+(k/m)v\n",
        "\n",
        "Pemisahan variabel dilakukan dengan memindahkan semua\n",
        "v ke satu sisi dan t ke sisi lain. Kemudian mengintegrasikan kedua sisi."
      ],
      "metadata": {
        "id": "zWihvz3VSMBQ"
      }
    },
    {
      "cell_type": "code",
      "source": [
        "# Import library\n",
        "import math\n",
        "import matplotlib.pyplot as plt"
      ],
      "metadata": {
        "id": "4pKi-hMYm0j4"
      },
      "execution_count": null,
      "outputs": []
    },
    {
      "cell_type": "code",
      "source": [
        "# Inisialisais inputan yang telah diketahui dari soal\n",
        "y = 100                                     # posisi awal (m)\n",
        "v = 0                                       # kecepatan awal (m/s)\n",
        "a = 9.8                                     # percepatan --> gravitasi (m/s^2)\n",
        "t = 0                                       # waktu awal (s)\n",
        "r = 0.2                                      # jari jari (cm)\n",
        "rho = 925                                   # massa jenis plastik (kg/m^3)\n",
        "dt = 0.01                                   # interval waktu (s)"
      ],
      "metadata": {
        "id": "YbQK_Bh5_jYX"
      },
      "execution_count": null,
      "outputs": []
    },
    {
      "cell_type": "code",
      "source": [
        "# Buat fungsi menghitung massa benda\n",
        "def calculate_mass(r, rho):\n",
        "    volume = (4/3) * 3.14 * (r**3)  # Hitung volume bola\n",
        "    mass = round(volume * rho, 2)   # Hitung massa berdasarkan volume dan massa jenis plastik\n",
        "    return mass"
      ],
      "metadata": {
        "id": "SfcblewdnFl4"
      },
      "execution_count": null,
      "outputs": []
    },
    {
      "cell_type": "code",
      "source": [
        "# Buat fungsi untuk menghitung konstanta hambatan udara\n",
        "def calculate_air_resistance_const(r):\n",
        "    A = 4 * 3.14 * (r**2)                   # luas penampang\n",
        "    K = 0.775 * A                           # konstanta rambat udara\n",
        "    return K"
      ],
      "metadata": {
        "id": "g6D-vnkPmxvJ"
      },
      "execution_count": null,
      "outputs": []
    },
    {
      "cell_type": "code",
      "source": [
        "# Hitung massa (m) dan konstanta hambatan udara (k)\n",
        "m = calculate_mass(r, rho)\n",
        "K = calculate_air_resistance_const(r)\n",
        "\n",
        "print(\"Massa : \", m)\n",
        "print(\"Koefisien : \", K)"
      ],
      "metadata": {
        "colab": {
          "base_uri": "https://localhost:8080/"
        },
        "id": "FeTDJTXWAREp",
        "outputId": "a2bc84c1-bb3d-48fc-b7bf-fe68810d8f12"
      },
      "execution_count": null,
      "outputs": [
        {
          "output_type": "stream",
          "name": "stdout",
          "text": [
            "Massa :  30.98\n",
            "Koefisien :  0.38936000000000004\n"
          ]
        }
      ]
    },
    {
      "cell_type": "code",
      "source": [
        "import numpy as np\n",
        "\n",
        "# Fungsi untuk menghitung solusi analitik\n",
        "def solusi_analitik(t, g, k, m):\n",
        "    C = -(m * g) / k\n",
        "    return -(m * g / k) * (np.exp(k * t / m)) +  (m*g/k)\n",
        "\n",
        "# Parameter\n",
        "g = 9.8  # percepatan gravitasi (m/s^2)\n",
        "k = 0.38  # konstanta hambatan udara (kg/m)\n",
        "m = 30.98    # massa objek (kg)\n",
        "\n",
        "\n",
        "# Waktu-waktu yang diinginkan\n",
        "times = [0.5, 1.0, 1.5, 2.0, 2.5, 3.0, 3.5, 4.0]\n",
        "\n",
        "# Loop untuk menghitung dan mencetak kecepatan pada waktu-waktu tertentu\n",
        "for t in times:\n",
        "    # Hitung kecepatan dengan solusi analitik\n",
        "    v = solusi_analitik(t, g, k, m)\n",
        "    # Output kecepatan pada waktu tertentu\n",
        "    print(\"Kecepatan pada detik t =\", t, \"        :\", v, \"m/s\")\n"
      ],
      "metadata": {
        "colab": {
          "base_uri": "https://localhost:8080/"
        },
        "id": "P7R9sqiDSEaz",
        "outputId": "adc7163e-4ba6-45ed-b494-45987e6cb489"
      },
      "execution_count": null,
      "outputs": [
        {
          "output_type": "stream",
          "name": "stdout",
          "text": [
            "Kecepatan pada detik t = 0.5         : -4.915056588003495 m/s\n",
            "Kecepatan pada detik t = 1.0         : -9.860349789753968 m/s\n",
            "Kecepatan pada detik t = 1.5         : -14.83606561588931 m/s\n",
            "Kecepatan pada detik t = 2.0         : -19.842391221353864 m/s\n",
            "Kecepatan pada detik t = 2.5         : -24.879514912438367 m/s\n",
            "Kecepatan pada detik t = 3.0         : -29.947626153862643 m/s\n",
            "Kecepatan pada detik t = 3.5         : -35.04691557590195 m/s\n",
            "Kecepatan pada detik t = 4.0         : -40.17757498155731 m/s\n"
          ]
        }
      ]
    },
    {
      "cell_type": "markdown",
      "source": [
        "# Simulasi Gerak Jatuh Benda Dengan Hambatan Udara Menggunakan Pendekatan Numerik\n",
        "\n",
        "Contoh Kasus:\n",
        "> Sebuah bola plastik dengan jari jari 20cm dijatuhkan dari helikopter dengan ketinggian 100 dengan kecepatan awal 0.\n",
        "\n",
        "> Diketahui :\n",
        "*\tr\t = 0.2 \t\tJari jari (m)\n",
        "*\ty0 \t= 100\t\tPosisi awal (m)\n",
        "*\tv \t= 0\t\tKecepatan awal (m/s)\n",
        "*\ta\t= -9,8\t\tGravitasi (m/s^2)\n",
        "*\tt\t= 0\t\tWaktu awal (s)\n",
        "*\trho\t= 925\t\tMassa jenis plastik\n"
      ],
      "metadata": {
        "id": "B0SYc8-A_BpD"
      }
    },
    {
      "cell_type": "markdown",
      "source": [
        "# Solusi Numerik"
      ],
      "metadata": {
        "id": "BEgw1NsHY6e-"
      }
    },
    {
      "cell_type": "code",
      "source": [
        "# Simulasikan perubahan waktu dan posisi benda yang dijatuhkan dengan interval waktu (dt) 0.1second\n",
        "\n",
        "# Buat fungsi simulasi dengan pendekatan numerik\n",
        "def simulate_ball_movement(y_initial, dt, K, m):\n",
        "    t = 0  # Waktu awal\n",
        "    y = y_initial\n",
        "    v = 0\n",
        "    a = 9.8\n",
        "\n",
        "    while y >= 0:  # Loop sampai bola menyentuh tanah (y=0)\n",
        "        v_new = -a * dt + v * (1 + K/m * dt)  # Hitung kecepatan pada waktu berikutnya\n",
        "        y_new = y + v * dt                    # Hitung posisi baru\n",
        "\n",
        "        print(\"Waktu:\", round(t,4), \"s\", \"    Posisi:\", round(y,4), \"m\", \"    Kecepatan:\", v, \"m/s\")\n",
        "\n",
        "        # Update variabel untuk iterasi berikutnya\n",
        "        v = v_new\n",
        "        y = y_new\n",
        "        t += dt                              # Update waktu\n"
      ],
      "metadata": {
        "id": "ahnQ7tvqBPjX"
      },
      "execution_count": null,
      "outputs": []
    },
    {
      "cell_type": "code",
      "source": [
        "simulate_ball_movement(y, dt, K, m)"
      ],
      "metadata": {
        "colab": {
          "base_uri": "https://localhost:8080/"
        },
        "id": "Wf6ekAMHCv6q",
        "outputId": "8826f277-3660-493c-ca42-638f98bb2c86"
      },
      "execution_count": null,
      "outputs": [
        {
          "output_type": "stream",
          "name": "stdout",
          "text": [
            "Waktu: 0 s     Posisi: 100 m     Kecepatan: 0 m/s\n",
            "Waktu: 0.01 s     Posisi: 100.0 m     Kecepatan: -0.098 m/s\n",
            "Waktu: 0.02 s     Posisi: 99.999 m     Kecepatan: -0.19601231674628794 m/s\n",
            "Waktu: 0.03 s     Posisi: 99.9971 m     Kecepatan: -0.29403695178684586 m/s\n",
            "Waktu: 0.04 s     Posisi: 99.9941 m     Kecepatan: -0.3920739066698503 m/s\n",
            "Waktu: 0.05 s     Posisi: 99.9902 m     Kecepatan: -0.4901231829436724 m/s\n",
            "Waktu: 0.06 s     Posisi: 99.9853 m     Kecepatan: -0.588184782156878 m/s\n",
            "Waktu: 0.07 s     Posisi: 99.9794 m     Kecepatan: -0.6862587058582273 m/s\n",
            "Waktu: 0.08 s     Posisi: 99.9726 m     Kecepatan: -0.7843449555966756 m/s\n",
            "Waktu: 0.09 s     Posisi: 99.9647 m     Kecepatan: -0.8824435329213726 m/s\n",
            "Waktu: 0.1 s     Posisi: 99.9559 m     Kecepatan: -0.9805544393816624 m/s\n",
            "Waktu: 0.11 s     Posisi: 99.9461 m     Kecepatan: -1.0786776765270845 m/s\n",
            "Waktu: 0.12 s     Posisi: 99.9353 m     Kecepatan: -1.1768132459073726 m/s\n",
            "Waktu: 0.13 s     Posisi: 99.9235 m     Kecepatan: -1.2749611490724555 m/s\n",
            "Waktu: 0.14 s     Posisi: 99.9108 m     Kecepatan: -1.3731213875724564 m/s\n",
            "Waktu: 0.15 s     Posisi: 99.897 m     Kecepatan: -1.4712939629576938 m/s\n",
            "Waktu: 0.16 s     Posisi: 99.8823 m     Kecepatan: -1.5694788767786807 m/s\n",
            "Waktu: 0.17 s     Posisi: 99.8666 m     Kecepatan: -1.6676761305861252 m/s\n",
            "Waktu: 0.18 s     Posisi: 99.85 m     Kecepatan: -1.76588572593093 m/s\n",
            "Waktu: 0.19 s     Posisi: 99.8323 m     Kecepatan: -1.864107664364193 m/s\n",
            "Waktu: 0.2 s     Posisi: 99.8137 m     Kecepatan: -1.9623419474372068 m/s\n",
            "Waktu: 0.21 s     Posisi: 99.794 m     Kecepatan: -2.060588576701459 m/s\n",
            "Waktu: 0.22 s     Posisi: 99.7734 m     Kecepatan: -2.158847553708633 m/s\n",
            "Waktu: 0.23 s     Posisi: 99.7518 m     Kecepatan: -2.2571188800106055 m/s\n",
            "Waktu: 0.24 s     Posisi: 99.7293 m     Kecepatan: -2.35540255715945 m/s\n",
            "Waktu: 0.25 s     Posisi: 99.7057 m     Kecepatan: -2.453698586707434 m/s\n",
            "Waktu: 0.26 s     Posisi: 99.6812 m     Kecepatan: -2.5520069702070205 m/s\n",
            "Waktu: 0.27 s     Posisi: 99.6557 m     Kecepatan: -2.6503277092108677 m/s\n",
            "Waktu: 0.28 s     Posisi: 99.6292 m     Kecepatan: -2.748660805271829 m/s\n",
            "Waktu: 0.29 s     Posisi: 99.6017 m     Kecepatan: -2.8470062599429524 m/s\n",
            "Waktu: 0.3 s     Posisi: 99.5732 m     Kecepatan: -2.945364074777481 m/s\n",
            "Waktu: 0.31 s     Posisi: 99.5437 m     Kecepatan: -3.043734251328855 m/s\n",
            "Waktu: 0.32 s     Posisi: 99.5133 m     Kecepatan: -3.1421167911507064 m/s\n",
            "Waktu: 0.33 s     Posisi: 99.4819 m     Kecepatan: -3.2405116957968656 m/s\n",
            "Waktu: 0.34 s     Posisi: 99.4495 m     Kecepatan: -3.3389189668213572 m/s\n",
            "Waktu: 0.35 s     Posisi: 99.4161 m     Kecepatan: -3.437338605778401 m/s\n",
            "Waktu: 0.36 s     Posisi: 99.3817 m     Kecepatan: -3.5357706142224115 m/s\n",
            "Waktu: 0.37 s     Posisi: 99.3464 m     Kecepatan: -3.634214993708 m/s\n",
            "Waktu: 0.38 s     Posisi: 99.31 m     Kecepatan: -3.732671745789972 m/s\n",
            "Waktu: 0.39 s     Posisi: 99.2727 m     Kecepatan: -3.831140872023329 m/s\n",
            "Waktu: 0.4 s     Posisi: 99.2344 m     Kecepatan: -3.929622373963268 m/s\n",
            "Waktu: 0.41 s     Posisi: 99.1951 m     Kecepatan: -4.028116253165181 m/s\n",
            "Waktu: 0.42 s     Posisi: 99.1548 m     Kecepatan: -4.126622511184656 m/s\n",
            "Waktu: 0.43 s     Posisi: 99.1135 m     Kecepatan: -4.225141149577475 m/s\n",
            "Waktu: 0.44 s     Posisi: 99.0713 m     Kecepatan: -4.323672169899617 m/s\n",
            "Waktu: 0.45 s     Posisi: 99.028 m     Kecepatan: -4.422215573707258 m/s\n",
            "Waktu: 0.46 s     Posisi: 98.9838 m     Kecepatan: -4.520771362556767 m/s\n",
            "Waktu: 0.47 s     Posisi: 98.9386 m     Kecepatan: -4.619339538004708 m/s\n",
            "Waktu: 0.48 s     Posisi: 98.8924 m     Kecepatan: -4.717920101607845 m/s\n",
            "Waktu: 0.49 s     Posisi: 98.8452 m     Kecepatan: -4.816513054923133 m/s\n",
            "Waktu: 0.5 s     Posisi: 98.7971 m     Kecepatan: -4.915118399507724 m/s\n",
            "Waktu: 0.51 s     Posisi: 98.7479 m     Kecepatan: -5.0137361369189675 m/s\n",
            "Waktu: 0.52 s     Posisi: 98.6978 m     Kecepatan: -5.112366268714407 m/s\n",
            "Waktu: 0.53 s     Posisi: 98.6467 m     Kecepatan: -5.2110087964517815 m/s\n",
            "Waktu: 0.54 s     Posisi: 98.5946 m     Kecepatan: -5.309663721689026 m/s\n",
            "Waktu: 0.55 s     Posisi: 98.5415 m     Kecepatan: -5.408331045984274 m/s\n",
            "Waktu: 0.56 s     Posisi: 98.4874 m     Kecepatan: -5.5070107708958504 m/s\n",
            "Waktu: 0.57 s     Posisi: 98.4323 m     Kecepatan: -5.605702897982279 m/s\n",
            "Waktu: 0.58 s     Posisi: 98.3763 m     Kecepatan: -5.704407428802278 m/s\n",
            "Waktu: 0.59 s     Posisi: 98.3192 m     Kecepatan: -5.803124364914763 m/s\n",
            "Waktu: 0.6 s     Posisi: 98.2612 m     Kecepatan: -5.901853707878844 m/s\n",
            "Waktu: 0.61 s     Posisi: 98.2022 m     Kecepatan: -6.000595459253827 m/s\n",
            "Waktu: 0.62 s     Posisi: 98.1422 m     Kecepatan: -6.099349620599216 m/s\n",
            "Waktu: 0.63 s     Posisi: 98.0812 m     Kecepatan: -6.198116193474708 m/s\n",
            "Waktu: 0.64 s     Posisi: 98.0192 m     Kecepatan: -6.296895179440199 m/s\n",
            "Waktu: 0.65 s     Posisi: 97.9562 m     Kecepatan: -6.395686580055779 m/s\n",
            "Waktu: 0.66 s     Posisi: 97.8923 m     Kecepatan: -6.4944903968817345 m/s\n",
            "Waktu: 0.67 s     Posisi: 97.8273 m     Kecepatan: -6.593306631478549 m/s\n",
            "Waktu: 0.68 s     Posisi: 97.7614 m     Kecepatan: -6.692135285406899 m/s\n",
            "Waktu: 0.69 s     Posisi: 97.6945 m     Kecepatan: -6.7909763602276625 m/s\n",
            "Waktu: 0.7 s     Posisi: 97.6265 m     Kecepatan: -6.889829857501909 m/s\n",
            "Waktu: 0.71 s     Posisi: 97.5576 m     Kecepatan: -6.988695778790907 m/s\n",
            "Waktu: 0.72 s     Posisi: 97.4878 m     Kecepatan: -7.08757412565612 m/s\n",
            "Waktu: 0.73 s     Posisi: 97.4169 m     Kecepatan: -7.1864648996592075 m/s\n",
            "Waktu: 0.74 s     Posisi: 97.345 m     Kecepatan: -7.285368102362026 m/s\n",
            "Waktu: 0.75 s     Posisi: 97.2722 m     Kecepatan: -7.384283735326627 m/s\n",
            "Waktu: 0.76 s     Posisi: 97.1983 m     Kecepatan: -7.48321180011526 m/s\n",
            "Waktu: 0.77 s     Posisi: 97.1235 m     Kecepatan: -7.582152298290371 m/s\n",
            "Waktu: 0.78 s     Posisi: 97.0477 m     Kecepatan: -7.6811052314146 m/s\n",
            "Waktu: 0.79 s     Posisi: 96.9709 m     Kecepatan: -7.780070601050785 m/s\n",
            "Waktu: 0.8 s     Posisi: 96.8931 m     Kecepatan: -7.879048408761962 m/s\n",
            "Waktu: 0.81 s     Posisi: 96.8143 m     Kecepatan: -7.97803865611136 m/s\n",
            "Waktu: 0.82 s     Posisi: 96.7345 m     Kecepatan: -8.077041344662407 m/s\n",
            "Waktu: 0.83 s     Posisi: 96.6537 m     Kecepatan: -8.176056475978726 m/s\n",
            "Waktu: 0.84 s     Posisi: 96.572 m     Kecepatan: -8.27508405162414 m/s\n",
            "Waktu: 0.85 s     Posisi: 96.4892 m     Kecepatan: -8.374124073162662 m/s\n",
            "Waktu: 0.86 s     Posisi: 96.4055 m     Kecepatan: -8.473176542158507 m/s\n",
            "Waktu: 0.87 s     Posisi: 96.3207 m     Kecepatan: -8.572241460176086 m/s\n",
            "Waktu: 0.88 s     Posisi: 96.235 m     Kecepatan: -8.671318828780002 m/s\n",
            "Waktu: 0.89 s     Posisi: 96.1483 m     Kecepatan: -8.770408649535062 m/s\n",
            "Waktu: 0.9 s     Posisi: 96.0606 m     Kecepatan: -8.869510924006264 m/s\n",
            "Waktu: 0.91 s     Posisi: 95.9719 m     Kecepatan: -8.968625653758805 m/s\n",
            "Waktu: 0.92 s     Posisi: 95.8822 m     Kecepatan: -9.067752840358079 m/s\n",
            "Waktu: 0.93 s     Posisi: 95.7915 m     Kecepatan: -9.166892485369674 m/s\n",
            "Waktu: 0.94 s     Posisi: 95.6999 m     Kecepatan: -9.266044590359378 m/s\n",
            "Waktu: 0.95 s     Posisi: 95.6072 m     Kecepatan: -9.365209156893176 m/s\n",
            "Waktu: 0.96 s     Posisi: 95.5136 m     Kecepatan: -9.464386186537245 m/s\n",
            "Waktu: 0.97 s     Posisi: 95.4189 m     Kecepatan: -9.563575680857966 m/s\n",
            "Waktu: 0.98 s     Posisi: 95.3233 m     Kecepatan: -9.66277764142191 m/s\n",
            "Waktu: 0.99 s     Posisi: 95.2266 m     Kecepatan: -9.76199206979585 m/s\n",
            "Waktu: 1.0 s     Posisi: 95.129 m     Kecepatan: -9.861218967546753 m/s\n",
            "Waktu: 1.01 s     Posisi: 95.0304 m     Kecepatan: -9.960458336241784 m/s\n",
            "Waktu: 1.02 s     Posisi: 94.9308 m     Kecepatan: -10.059710177448304 m/s\n",
            "Waktu: 1.03 s     Posisi: 94.8302 m     Kecepatan: -10.158974492733874 m/s\n",
            "Waktu: 1.04 s     Posisi: 94.7286 m     Kecepatan: -10.258251283666247 m/s\n",
            "Waktu: 1.05 s     Posisi: 94.626 m     Kecepatan: -10.357540551813377 m/s\n",
            "Waktu: 1.06 s     Posisi: 94.5225 m     Kecepatan: -10.456842298743414 m/s\n",
            "Waktu: 1.07 s     Posisi: 94.4179 m     Kecepatan: -10.556156526024706 m/s\n",
            "Waktu: 1.08 s     Posisi: 94.3123 m     Kecepatan: -10.655483235225795 m/s\n",
            "Waktu: 1.09 s     Posisi: 94.2058 m     Kecepatan: -10.754822427915423 m/s\n",
            "Waktu: 1.1 s     Posisi: 94.0982 m     Kecepatan: -10.85417410566253 m/s\n",
            "Waktu: 1.11 s     Posisi: 93.9897 m     Kecepatan: -10.95353827003625 m/s\n",
            "Waktu: 1.12 s     Posisi: 93.8802 m     Kecepatan: -11.052914922605915 m/s\n",
            "Waktu: 1.13 s     Posisi: 93.7696 m     Kecepatan: -11.152304064941056 m/s\n",
            "Waktu: 1.14 s     Posisi: 93.6581 m     Kecepatan: -11.251705698611401 m/s\n",
            "Waktu: 1.15 s     Posisi: 93.5456 m     Kecepatan: -11.351119825186874 m/s\n",
            "Waktu: 1.16 s     Posisi: 93.4321 m     Kecepatan: -11.450546446237595 m/s\n",
            "Waktu: 1.17 s     Posisi: 93.3176 m     Kecepatan: -11.549985563333886 m/s\n",
            "Waktu: 1.18 s     Posisi: 93.2021 m     Kecepatan: -11.649437178046261 m/s\n",
            "Waktu: 1.19 s     Posisi: 93.0856 m     Kecepatan: -11.748901291945437 m/s\n",
            "Waktu: 1.2 s     Posisi: 92.9681 m     Kecepatan: -11.848377906602323 m/s\n",
            "Waktu: 1.21 s     Posisi: 92.8496 m     Kecepatan: -11.947867023588028 m/s\n",
            "Waktu: 1.22 s     Posisi: 92.7301 m     Kecepatan: -12.04736864447386 m/s\n",
            "Waktu: 1.23 s     Posisi: 92.6096 m     Kecepatan: -12.14688277083132 m/s\n",
            "Waktu: 1.24 s     Posisi: 92.4882 m     Kecepatan: -12.246409404232113 m/s\n",
            "Waktu: 1.25 s     Posisi: 92.3657 m     Kecepatan: -12.345948546248133 m/s\n",
            "Waktu: 1.26 s     Posisi: 92.2423 m     Kecepatan: -12.44550019845148 m/s\n",
            "Waktu: 1.27 s     Posisi: 92.1178 m     Kecepatan: -12.545064362414447 m/s\n",
            "Waktu: 1.28 s     Posisi: 91.9923 m     Kecepatan: -12.644641039709525 m/s\n",
            "Waktu: 1.29 s     Posisi: 91.8659 m     Kecepatan: -12.744230231909404 m/s\n",
            "Waktu: 1.3 s     Posisi: 91.7385 m     Kecepatan: -12.84383194058697 m/s\n",
            "Waktu: 1.31 s     Posisi: 91.61 m     Kecepatan: -12.943446167315306 m/s\n",
            "Waktu: 1.32 s     Posisi: 91.4806 m     Kecepatan: -13.043072913667697 m/s\n",
            "Waktu: 1.33 s     Posisi: 91.3502 m     Kecepatan: -13.142712181217622 m/s\n",
            "Waktu: 1.34 s     Posisi: 91.2187 m     Kecepatan: -13.242363971538758 m/s\n",
            "Waktu: 1.35 s     Posisi: 91.0863 m     Kecepatan: -13.34202828620498 m/s\n",
            "Waktu: 1.36 s     Posisi: 90.9529 m     Kecepatan: -13.441705126790364 m/s\n",
            "Waktu: 1.37 s     Posisi: 90.8185 m     Kecepatan: -13.541394494869179 m/s\n",
            "Waktu: 1.38 s     Posisi: 90.6831 m     Kecepatan: -13.641096392015895 m/s\n",
            "Waktu: 1.39 s     Posisi: 90.5466 m     Kecepatan: -13.740810819805176 m/s\n",
            "Waktu: 1.4 s     Posisi: 90.4092 m     Kecepatan: -13.840537779811891 m/s\n",
            "Waktu: 1.41 s     Posisi: 90.2708 m     Kecepatan: -13.9402772736111 m/s\n",
            "Waktu: 1.42 s     Posisi: 90.1314 m     Kecepatan: -14.040029302778064 m/s\n",
            "Waktu: 1.43 s     Posisi: 89.991 m     Kecepatan: -14.139793868888242 m/s\n",
            "Waktu: 1.44 s     Posisi: 89.8496 m     Kecepatan: -14.23957097351729 m/s\n",
            "Waktu: 1.45 s     Posisi: 89.7072 m     Kecepatan: -14.339360618241065 m/s\n",
            "Waktu: 1.46 s     Posisi: 89.5638 m     Kecepatan: -14.439162804635616 m/s\n",
            "Waktu: 1.47 s     Posisi: 89.4194 m     Kecepatan: -14.538977534277196 m/s\n",
            "Waktu: 1.48 s     Posisi: 89.2741 m     Kecepatan: -14.638804808742254 m/s\n",
            "Waktu: 1.49 s     Posisi: 89.1277 m     Kecepatan: -14.738644629607435 m/s\n",
            "Waktu: 1.5 s     Posisi: 88.9803 m     Kecepatan: -14.838496998449587 m/s\n",
            "Waktu: 1.51 s     Posisi: 88.8319 m     Kecepatan: -14.938361916845752 m/s\n",
            "Waktu: 1.52 s     Posisi: 88.6825 m     Kecepatan: -15.03823938637317 m/s\n",
            "Waktu: 1.53 s     Posisi: 88.5321 m     Kecepatan: -15.138129408609284 m/s\n",
            "Waktu: 1.54 s     Posisi: 88.3808 m     Kecepatan: -15.23803198513173 m/s\n",
            "Waktu: 1.55 s     Posisi: 88.2284 m     Kecepatan: -15.337947117518345 m/s\n",
            "Waktu: 1.56 s     Posisi: 88.075 m     Kecepatan: -15.437874807347162 m/s\n",
            "Waktu: 1.57 s     Posisi: 87.9206 m     Kecepatan: -15.537815056196417 m/s\n",
            "Waktu: 1.58 s     Posisi: 87.7652 m     Kecepatan: -15.63776786564454 m/s\n",
            "Waktu: 1.59 s     Posisi: 87.6089 m     Kecepatan: -15.73773323727016 m/s\n",
            "Waktu: 1.6 s     Posisi: 87.4515 m     Kecepatan: -15.837711172652105 m/s\n",
            "Waktu: 1.61 s     Posisi: 87.2931 m     Kecepatan: -15.937701673369402 m/s\n",
            "Waktu: 1.62 s     Posisi: 87.1337 m     Kecepatan: -16.037704741001274 m/s\n",
            "Waktu: 1.63 s     Posisi: 86.9733 m     Kecepatan: -16.137720377127145 m/s\n",
            "Waktu: 1.64 s     Posisi: 86.812 m     Kecepatan: -16.23774858332664 m/s\n",
            "Waktu: 1.65 s     Posisi: 86.6496 m     Kecepatan: -16.337789361179574 m/s\n",
            "Waktu: 1.66 s     Posisi: 86.4862 m     Kecepatan: -16.437842712265972 m/s\n",
            "Waktu: 1.67 s     Posisi: 86.3218 m     Kecepatan: -16.53790863816605 m/s\n",
            "Waktu: 1.68 s     Posisi: 86.1565 m     Kecepatan: -16.637987140460226 m/s\n",
            "Waktu: 1.69 s     Posisi: 85.9901 m     Kecepatan: -16.73807822072911 m/s\n",
            "Waktu: 1.7 s     Posisi: 85.8227 m     Kecepatan: -16.83818188055352 m/s\n",
            "Waktu: 1.71 s     Posisi: 85.6543 m     Kecepatan: -16.938298121514464 m/s\n",
            "Waktu: 1.72 s     Posisi: 85.4849 m     Kecepatan: -17.038426945193155 m/s\n",
            "Waktu: 1.73 s     Posisi: 85.3145 m     Kecepatan: -17.138568353171003 m/s\n",
            "Waktu: 1.74 s     Posisi: 85.1432 m     Kecepatan: -17.23872234702962 m/s\n",
            "Waktu: 1.75 s     Posisi: 84.9708 m     Kecepatan: -17.338888928350805 m/s\n",
            "Waktu: 1.76 s     Posisi: 84.7974 m     Kecepatan: -17.439068098716568 m/s\n",
            "Waktu: 1.77 s     Posisi: 84.623 m     Kecepatan: -17.539259859709116 m/s\n",
            "Waktu: 1.78 s     Posisi: 84.4476 m     Kecepatan: -17.63946421291085 m/s\n",
            "Waktu: 1.79 s     Posisi: 84.2712 m     Kecepatan: -17.73968115990437 m/s\n",
            "Waktu: 1.8 s     Posisi: 84.0938 m     Kecepatan: -17.839910702272487 m/s\n",
            "Waktu: 1.81 s     Posisi: 83.9154 m     Kecepatan: -17.94015284159819 m/s\n",
            "Waktu: 1.82 s     Posisi: 83.736 m     Kecepatan: -18.040407579464688 m/s\n",
            "Waktu: 1.83 s     Posisi: 83.5556 m     Kecepatan: -18.14067491745537 m/s\n",
            "Waktu: 1.84 s     Posisi: 83.3742 m     Kecepatan: -18.240954857153838 m/s\n",
            "Waktu: 1.85 s     Posisi: 83.1918 m     Kecepatan: -18.34124740014389 m/s\n",
            "Waktu: 1.86 s     Posisi: 83.0084 m     Kecepatan: -18.44155254800952 m/s\n",
            "Waktu: 1.87 s     Posisi: 82.824 m     Kecepatan: -18.541870302334917 m/s\n",
            "Waktu: 1.88 s     Posisi: 82.6385 m     Kecepatan: -18.642200664704482 m/s\n",
            "Waktu: 1.89 s     Posisi: 82.4521 m     Kecepatan: -18.742543636702806 m/s\n",
            "Waktu: 1.9 s     Posisi: 82.2647 m     Kecepatan: -18.842899219914678 m/s\n",
            "Waktu: 1.91 s     Posisi: 82.0763 m     Kecepatan: -18.943267415925092 m/s\n",
            "Waktu: 1.92 s     Posisi: 81.8868 m     Kecepatan: -19.043648226319238 m/s\n",
            "Waktu: 1.93 s     Posisi: 81.6964 m     Kecepatan: -19.144041652682503 m/s\n",
            "Waktu: 1.94 s     Posisi: 81.505 m     Kecepatan: -19.244447696600478 m/s\n",
            "Waktu: 1.95 s     Posisi: 81.3125 m     Kecepatan: -19.344866359658948 m/s\n",
            "Waktu: 1.96 s     Posisi: 81.1191 m     Kecepatan: -19.445297643443904 m/s\n",
            "Waktu: 1.97 s     Posisi: 80.9246 m     Kecepatan: -19.545741549541532 m/s\n",
            "Waktu: 1.98 s     Posisi: 80.7292 m     Kecepatan: -19.646198079538216 m/s\n",
            "Waktu: 1.99 s     Posisi: 80.5327 m     Kecepatan: -19.746667235020542 m/s\n",
            "Waktu: 2.0 s     Posisi: 80.3352 m     Kecepatan: -19.847149017575294 m/s\n",
            "Waktu: 2.01 s     Posisi: 80.1368 m     Kecepatan: -19.94764342878946 m/s\n",
            "Waktu: 2.02 s     Posisi: 79.9373 m     Kecepatan: -20.048150470250217 m/s\n",
            "Waktu: 2.03 s     Posisi: 79.7368 m     Kecepatan: -20.148670143544955 m/s\n",
            "Waktu: 2.04 s     Posisi: 79.5353 m     Kecepatan: -20.24920245026125 m/s\n",
            "Waktu: 2.05 s     Posisi: 79.3328 m     Kecepatan: -20.349747391986888 m/s\n",
            "Waktu: 2.06 s     Posisi: 79.1293 m     Kecepatan: -20.45030497030985 m/s\n",
            "Waktu: 2.07 s     Posisi: 78.9248 m     Kecepatan: -20.55087518681832 m/s\n",
            "Waktu: 2.08 s     Posisi: 78.7193 m     Kecepatan: -20.651458043100675 m/s\n",
            "Waktu: 2.09 s     Posisi: 78.5128 m     Kecepatan: -20.752053540745496 m/s\n",
            "Waktu: 2.1 s     Posisi: 78.3053 m     Kecepatan: -20.852661681341566 m/s\n",
            "Waktu: 2.11 s     Posisi: 78.0967 m     Kecepatan: -20.953282466477862 m/s\n",
            "Waktu: 2.12 s     Posisi: 77.8872 m     Kecepatan: -21.053915897743565 m/s\n",
            "Waktu: 2.13 s     Posisi: 77.6767 m     Kecepatan: -21.15456197672805 m/s\n",
            "Waktu: 2.14 s     Posisi: 77.4651 m     Kecepatan: -21.255220705020903 m/s\n",
            "Waktu: 2.15 s     Posisi: 77.2526 m     Kecepatan: -21.3558920842119 m/s\n",
            "Waktu: 2.16 s     Posisi: 77.039 m     Kecepatan: -21.456576115891014 m/s\n",
            "Waktu: 2.17 s     Posisi: 76.8245 m     Kecepatan: -21.55727280164843 m/s\n",
            "Waktu: 2.18 s     Posisi: 76.6089 m     Kecepatan: -21.657982143074527 m/s\n",
            "Waktu: 2.19 s     Posisi: 76.3923 m     Kecepatan: -21.75870414175988 m/s\n",
            "Waktu: 2.2 s     Posisi: 76.1747 m     Kecepatan: -21.859438799295265 m/s\n",
            "Waktu: 2.21 s     Posisi: 75.9561 m     Kecepatan: -21.960186117271665 m/s\n",
            "Waktu: 2.22 s     Posisi: 75.7365 m     Kecepatan: -22.060946097280254 m/s\n",
            "Waktu: 2.23 s     Posisi: 75.5159 m     Kecepatan: -22.161718740912416 m/s\n",
            "Waktu: 2.24 s     Posisi: 75.2943 m     Kecepatan: -22.262504049759723 m/s\n",
            "Waktu: 2.25 s     Posisi: 75.0717 m     Kecepatan: -22.363302025413955 m/s\n",
            "Waktu: 2.26 s     Posisi: 74.848 m     Kecepatan: -22.464112669467088 m/s\n",
            "Waktu: 2.27 s     Posisi: 74.6234 m     Kecepatan: -22.564935983511305 m/s\n",
            "Waktu: 2.28 s     Posisi: 74.3977 m     Kecepatan: -22.66577196913898 m/s\n",
            "Waktu: 2.29 s     Posisi: 74.1711 m     Kecepatan: -22.766620627942693 m/s\n",
            "Waktu: 2.3 s     Posisi: 73.9434 m     Kecepatan: -22.86748196151522 m/s\n",
            "Waktu: 2.31 s     Posisi: 73.7147 m     Kecepatan: -22.968355971449544 m/s\n",
            "Waktu: 2.32 s     Posisi: 73.4851 m     Kecepatan: -23.06924265933884 m/s\n",
            "Waktu: 2.33 s     Posisi: 73.2544 m     Kecepatan: -23.17014202677649 m/s\n",
            "Waktu: 2.34 s     Posisi: 73.0227 m     Kecepatan: -23.27105407535607 m/s\n",
            "Waktu: 2.35 s     Posisi: 72.79 m     Kecepatan: -23.37197880667136 m/s\n",
            "Waktu: 2.36 s     Posisi: 72.5562 m     Kecepatan: -23.472916222316346 m/s\n",
            "Waktu: 2.37 s     Posisi: 72.3215 m     Kecepatan: -23.573866323885202 m/s\n",
            "Waktu: 2.38 s     Posisi: 72.0858 m     Kecepatan: -23.67482911297231 m/s\n",
            "Waktu: 2.39 s     Posisi: 71.849 m     Kecepatan: -23.775804591172253 m/s\n",
            "Waktu: 2.4 s     Posisi: 71.6113 m     Kecepatan: -23.876792760079812 m/s\n",
            "Waktu: 2.41 s     Posisi: 71.3725 m     Kecepatan: -23.97779362128997 m/s\n",
            "Waktu: 2.42 s     Posisi: 71.1327 m     Kecepatan: -24.078807176397902 m/s\n",
            "Waktu: 2.43 s     Posisi: 70.8919 m     Kecepatan: -24.179833426999 m/s\n",
            "Waktu: 2.44 s     Posisi: 70.6501 m     Kecepatan: -24.280872374688844 m/s\n",
            "Waktu: 2.45 s     Posisi: 70.4073 m     Kecepatan: -24.381924021063217 m/s\n",
            "Waktu: 2.46 s     Posisi: 70.1635 m     Kecepatan: -24.482988367718104 m/s\n",
            "Waktu: 2.47 s     Posisi: 69.9187 m     Kecepatan: -24.58406541624969 m/s\n",
            "Waktu: 2.48 s     Posisi: 69.6728 m     Kecepatan: -24.685155168254358 m/s\n",
            "Waktu: 2.49 s     Posisi: 69.426 m     Kecepatan: -24.786257625328698 m/s\n",
            "Waktu: 2.5 s     Posisi: 69.1781 m     Kecepatan: -24.887372789069495 m/s\n",
            "Waktu: 2.51 s     Posisi: 68.9292 m     Kecepatan: -24.98850066107374 m/s\n",
            "Waktu: 2.52 s     Posisi: 68.6794 m     Kecepatan: -25.08964124293862 m/s\n",
            "Waktu: 2.53 s     Posisi: 68.4285 m     Kecepatan: -25.19079453626152 m/s\n",
            "Waktu: 2.54 s     Posisi: 68.1766 m     Kecepatan: -25.291960542640034 m/s\n",
            "Waktu: 2.55 s     Posisi: 67.9236 m     Kecepatan: -25.39313926367195 m/s\n",
            "Waktu: 2.56 s     Posisi: 67.6697 m     Kecepatan: -25.494330700955263 m/s\n",
            "Waktu: 2.57 s     Posisi: 67.4148 m     Kecepatan: -25.59553485608816 m/s\n",
            "Waktu: 2.58 s     Posisi: 67.1588 m     Kecepatan: -25.69675173066904 m/s\n",
            "Waktu: 2.59 s     Posisi: 66.9018 m     Kecepatan: -25.79798132629649 m/s\n",
            "Waktu: 2.6 s     Posisi: 66.6439 m     Kecepatan: -25.89922364456931 m/s\n",
            "Waktu: 2.61 s     Posisi: 66.3849 m     Kecepatan: -26.0004786870865 m/s\n",
            "Waktu: 2.62 s     Posisi: 66.1249 m     Kecepatan: -26.10174645544725 m/s\n",
            "Waktu: 2.63 s     Posisi: 65.8638 m     Kecepatan: -26.203026951250955 m/s\n",
            "Waktu: 2.64 s     Posisi: 65.6018 m     Kecepatan: -26.30432017609722 m/s\n",
            "Waktu: 2.65 s     Posisi: 65.3388 m     Kecepatan: -26.405626131585848 m/s\n",
            "Waktu: 2.66 s     Posisi: 65.0747 m     Kecepatan: -26.506944819316832 m/s\n",
            "Waktu: 2.67 s     Posisi: 64.8096 m     Kecepatan: -26.608276240890376 m/s\n",
            "Waktu: 2.68 s     Posisi: 64.5436 m     Kecepatan: -26.709620397906885 m/s\n",
            "Waktu: 2.69 s     Posisi: 64.2765 m     Kecepatan: -26.810977291966964 m/s\n",
            "Waktu: 2.7 s     Posisi: 64.0084 m     Kecepatan: -26.912346924671418 m/s\n",
            "Waktu: 2.71 s     Posisi: 63.7392 m     Kecepatan: -27.013729297621254 m/s\n",
            "Waktu: 2.72 s     Posisi: 63.4691 m     Kecepatan: -27.115124412417675 m/s\n",
            "Waktu: 2.73 s     Posisi: 63.1979 m     Kecepatan: -27.216532270662096 m/s\n",
            "Waktu: 2.74 s     Posisi: 62.9258 m     Kecepatan: -27.317952873956123 m/s\n",
            "Waktu: 2.75 s     Posisi: 62.6526 m     Kecepatan: -27.419386223901572 m/s\n",
            "Waktu: 2.76 s     Posisi: 62.3784 m     Kecepatan: -27.520832322100453 m/s\n",
            "Waktu: 2.77 s     Posisi: 62.1032 m     Kecepatan: -27.62229117015498 m/s\n",
            "Waktu: 2.78 s     Posisi: 61.827 m     Kecepatan: -27.723762769667573 m/s\n",
            "Waktu: 2.79 s     Posisi: 61.5497 m     Kecepatan: -27.825247122240842 m/s\n",
            "Waktu: 2.8 s     Posisi: 61.2715 m     Kecepatan: -27.926744229477613 m/s\n",
            "Waktu: 2.81 s     Posisi: 60.9922 m     Kecepatan: -28.0282540929809 m/s\n",
            "Waktu: 2.82 s     Posisi: 60.7119 m     Kecepatan: -28.12977671435393 m/s\n",
            "Waktu: 2.83 s     Posisi: 60.4306 m     Kecepatan: -28.23131209520012 m/s\n",
            "Waktu: 2.84 s     Posisi: 60.1483 m     Kecepatan: -28.332860237123096 m/s\n",
            "Waktu: 2.85 s     Posisi: 59.865 m     Kecepatan: -28.434421141726688 m/s\n",
            "Waktu: 2.86 s     Posisi: 59.5806 m     Kecepatan: -28.53599481061492 m/s\n",
            "Waktu: 2.87 s     Posisi: 59.2953 m     Kecepatan: -28.63758124539202 m/s\n",
            "Waktu: 2.88 s     Posisi: 59.0089 m     Kecepatan: -28.73918044766242 m/s\n",
            "Waktu: 2.89 s     Posisi: 58.7215 m     Kecepatan: -28.840792419030755 m/s\n",
            "Waktu: 2.9 s     Posisi: 58.4331 m     Kecepatan: -28.942417161101854 m/s\n",
            "Waktu: 2.91 s     Posisi: 58.1437 m     Kecepatan: -29.04405467548076 m/s\n",
            "Waktu: 2.92 s     Posisi: 57.8532 m     Kecepatan: -29.1457049637727 m/s\n",
            "Waktu: 2.93 s     Posisi: 57.5618 m     Kecepatan: -29.247368027583125 m/s\n",
            "Waktu: 2.94 s     Posisi: 57.2693 m     Kecepatan: -29.34904386851767 m/s\n",
            "Waktu: 2.95 s     Posisi: 56.9758 m     Kecepatan: -29.450732488182176 m/s\n",
            "Waktu: 2.96 s     Posisi: 56.6813 m     Kecepatan: -29.55243388818269 m/s\n",
            "Waktu: 2.97 s     Posisi: 56.3858 m     Kecepatan: -29.65414807012546 m/s\n",
            "Waktu: 2.98 s     Posisi: 56.0893 m     Kecepatan: -29.75587503561693 m/s\n",
            "Waktu: 2.99 s     Posisi: 55.7917 m     Kecepatan: -29.857614786263756 m/s\n",
            "Waktu: 3.0 s     Posisi: 55.4931 m     Kecepatan: -29.959367323672787 m/s\n",
            "Waktu: 3.01 s     Posisi: 55.1935 m     Kecepatan: -30.061132649451075 m/s\n",
            "Waktu: 3.02 s     Posisi: 54.8929 m     Kecepatan: -30.16291076520588 m/s\n",
            "Waktu: 3.03 s     Posisi: 54.5913 m     Kecepatan: -30.264701672544657 m/s\n",
            "Waktu: 3.04 s     Posisi: 54.2886 m     Kecepatan: -30.366505373075068 m/s\n",
            "Waktu: 3.05 s     Posisi: 53.985 m     Kecepatan: -30.468321868404978 m/s\n",
            "Waktu: 3.06 s     Posisi: 53.6803 m     Kecepatan: -30.570151160142448 m/s\n",
            "Waktu: 3.07 s     Posisi: 53.3746 m     Kecepatan: -30.671993249895742 m/s\n",
            "Waktu: 3.08 s     Posisi: 53.0679 m     Kecepatan: -30.773848139273333 m/s\n",
            "Waktu: 3.09 s     Posisi: 52.7601 m     Kecepatan: -30.87571582988389 m/s\n",
            "Waktu: 3.1 s     Posisi: 52.4514 m     Kecepatan: -30.977596323336286 m/s\n",
            "Waktu: 3.11 s     Posisi: 52.1416 m     Kecepatan: -31.079489621239595 m/s\n",
            "Waktu: 3.12 s     Posisi: 51.8308 m     Kecepatan: -31.181395725203096 m/s\n",
            "Waktu: 3.13 s     Posisi: 51.519 m     Kecepatan: -31.283314636836266 m/s\n",
            "Waktu: 3.14 s     Posisi: 51.2062 m     Kecepatan: -31.385246357748787 m/s\n",
            "Waktu: 3.15 s     Posisi: 50.8923 m     Kecepatan: -31.487190889550547 m/s\n",
            "Waktu: 3.16 s     Posisi: 50.5774 m     Kecepatan: -31.589148233851628 m/s\n",
            "Waktu: 3.17 s     Posisi: 50.2615 m     Kecepatan: -31.69111839226232 m/s\n",
            "Waktu: 3.18 s     Posisi: 49.9446 m     Kecepatan: -31.793101366393117 m/s\n",
            "Waktu: 3.19 s     Posisi: 49.6267 m     Kecepatan: -31.89509715785471 m/s\n",
            "Waktu: 3.2 s     Posisi: 49.3077 m     Kecepatan: -31.997105768257995 m/s\n",
            "Waktu: 3.21 s     Posisi: 48.9878 m     Kecepatan: -32.099127199214074 m/s\n",
            "Waktu: 3.22 s     Posisi: 48.6668 m     Kecepatan: -32.20116145233424 m/s\n",
            "Waktu: 3.23 s     Posisi: 48.3448 m     Kecepatan: -32.303208529230005 m/s\n",
            "Waktu: 3.24 s     Posisi: 48.0217 m     Kecepatan: -32.40526843151307 m/s\n",
            "Waktu: 3.25 s     Posisi: 47.6977 m     Kecepatan: -32.50734116079535 m/s\n",
            "Waktu: 3.26 s     Posisi: 47.3726 m     Kecepatan: -32.609426718688944 m/s\n",
            "Waktu: 3.27 s     Posisi: 47.0465 m     Kecepatan: -32.71152510680618 m/s\n",
            "Waktu: 3.28 s     Posisi: 46.7194 m     Kecepatan: -32.813636326759564 m/s\n",
            "Waktu: 3.29 s     Posisi: 46.3913 m     Kecepatan: -32.91576038016182 m/s\n",
            "Waktu: 3.3 s     Posisi: 46.0621 m     Kecepatan: -33.017897268625866 m/s\n",
            "Waktu: 3.31 s     Posisi: 45.7319 m     Kecepatan: -33.12004699376483 m/s\n",
            "Waktu: 3.32 s     Posisi: 45.4007 m     Kecepatan: -33.22220955719204 m/s\n",
            "Waktu: 3.33 s     Posisi: 45.0685 m     Kecepatan: -33.324384960521016 m/s\n",
            "Waktu: 3.34 s     Posisi: 44.7353 m     Kecepatan: -33.42657320536551 m/s\n",
            "Waktu: 3.35 s     Posisi: 44.401 m     Kecepatan: -33.52877429333944 m/s\n",
            "Waktu: 3.36 s     Posisi: 44.0657 m     Kecepatan: -33.63098822605695 m/s\n",
            "Waktu: 3.37 s     Posisi: 43.7294 m     Kecepatan: -33.73321500513238 m/s\n",
            "Waktu: 3.38 s     Posisi: 43.3921 m     Kecepatan: -33.83545463218028 m/s\n",
            "Waktu: 3.39 s     Posisi: 43.0537 m     Kecepatan: -33.937707108815395 m/s\n",
            "Waktu: 3.4 s     Posisi: 42.7143 m     Kecepatan: -34.039972436652675 m/s\n",
            "Waktu: 3.41 s     Posisi: 42.3739 m     Kecepatan: -34.14225061730727 m/s\n",
            "Waktu: 3.42 s     Posisi: 42.0325 m     Kecepatan: -34.24454165239454 m/s\n",
            "Waktu: 3.43 s     Posisi: 41.6901 m     Kecepatan: -34.34684554353004 m/s\n",
            "Waktu: 3.44 s     Posisi: 41.3466 m     Kecepatan: -34.449162292329525 m/s\n",
            "Waktu: 3.45 s     Posisi: 41.0021 m     Kecepatan: -34.551491900408976 m/s\n",
            "Waktu: 3.46 s     Posisi: 40.6566 m     Kecepatan: -34.653834369384555 m/s\n",
            "Waktu: 3.47 s     Posisi: 40.3101 m     Kecepatan: -34.75618970087263 m/s\n",
            "Waktu: 3.48 s     Posisi: 39.9625 m     Kecepatan: -34.85855789648978 m/s\n",
            "Waktu: 3.49 s     Posisi: 39.6139 m     Kecepatan: -34.960938957852775 m/s\n",
            "Waktu: 3.5 s     Posisi: 39.2643 m     Kecepatan: -35.06333288657861 m/s\n",
            "Waktu: 3.51 s     Posisi: 38.9137 m     Kecepatan: -35.16573968428445 m/s\n",
            "Waktu: 3.52 s     Posisi: 38.562 m     Kecepatan: -35.2681593525877 m/s\n",
            "Waktu: 3.53 s     Posisi: 38.2093 m     Kecepatan: -35.370591893105946 m/s\n",
            "Waktu: 3.54 s     Posisi: 37.8556 m     Kecepatan: -35.47303730745698 m/s\n",
            "Waktu: 3.55 s     Posisi: 37.5009 m     Kecepatan: -35.575495597258794 m/s\n",
            "Waktu: 3.56 s     Posisi: 37.1451 m     Kecepatan: -35.67796676412959 m/s\n",
            "Waktu: 3.57 s     Posisi: 36.7884 m     Kecepatan: -35.780450809687785 m/s\n",
            "Waktu: 3.58 s     Posisi: 36.4306 m     Kecepatan: -35.88294773555197 m/s\n",
            "Waktu: 3.59 s     Posisi: 36.0717 m     Kecepatan: -35.98545754334097 m/s\n",
            "Waktu: 3.6 s     Posisi: 35.7119 m     Kecepatan: -36.087980234673786 m/s\n",
            "Waktu: 3.61 s     Posisi: 35.351 m     Kecepatan: -36.19051581116965 m/s\n",
            "Waktu: 3.62 s     Posisi: 34.9891 m     Kecepatan: -36.293064274447964 m/s\n",
            "Waktu: 3.63 s     Posisi: 34.6262 m     Kecepatan: -36.39562562612837 m/s\n",
            "Waktu: 3.64 s     Posisi: 34.2622 m     Kecepatan: -36.49819986783069 m/s\n",
            "Waktu: 3.65 s     Posisi: 33.8972 m     Kecepatan: -36.60078700117496 m/s\n",
            "Waktu: 3.66 s     Posisi: 33.5312 m     Kecepatan: -36.7033870277814 m/s\n",
            "Waktu: 3.67 s     Posisi: 33.1642 m     Kecepatan: -36.80599994927047 m/s\n",
            "Waktu: 3.68 s     Posisi: 32.7961 m     Kecepatan: -36.908625767262805 m/s\n",
            "Waktu: 3.69 s     Posisi: 32.427 m     Kecepatan: -37.01126448337925 m/s\n",
            "Waktu: 3.7 s     Posisi: 32.0569 m     Kecepatan: -37.11391609924085 m/s\n",
            "Waktu: 3.71 s     Posisi: 31.6858 m     Kecepatan: -37.21658061646887 m/s\n",
            "Waktu: 3.72 s     Posisi: 31.3136 m     Kecepatan: -37.31925803668476 m/s\n",
            "Waktu: 3.73 s     Posisi: 30.9404 m     Kecepatan: -37.42194836151018 m/s\n",
            "Waktu: 3.74 s     Posisi: 30.5662 m     Kecepatan: -37.524651592567004 m/s\n",
            "Waktu: 3.75 s     Posisi: 30.1909 m     Kecepatan: -37.62736773147729 m/s\n",
            "Waktu: 3.76 s     Posisi: 29.8147 m     Kecepatan: -37.730096779863324 m/s\n",
            "Waktu: 3.77 s     Posisi: 29.4374 m     Kecepatan: -37.83283873934757 m/s\n",
            "Waktu: 3.78 s     Posisi: 29.059 m     Kecepatan: -37.93559361155272 m/s\n",
            "Waktu: 3.79 s     Posisi: 28.6797 m     Kecepatan: -38.03836139810165 m/s\n",
            "Waktu: 3.8 s     Posisi: 28.2993 m     Kecepatan: -38.14114210061745 m/s\n",
            "Waktu: 3.81 s     Posisi: 27.9179 m     Kecepatan: -38.24393572072342 m/s\n",
            "Waktu: 3.82 s     Posisi: 27.5355 m     Kecepatan: -38.34674226004305 m/s\n",
            "Waktu: 3.83 s     Posisi: 27.152 m     Kecepatan: -38.449561720200045 m/s\n",
            "Waktu: 3.84 s     Posisi: 26.7675 m     Kecepatan: -38.552394102818305 m/s\n",
            "Waktu: 3.85 s     Posisi: 26.382 m     Kecepatan: -38.65523940952194 m/s\n",
            "Waktu: 3.86 s     Posisi: 25.9954 m     Kecepatan: -38.758097641935265 m/s\n",
            "Waktu: 3.87 s     Posisi: 25.6078 m     Kecepatan: -38.8609688016828 m/s\n",
            "Waktu: 3.88 s     Posisi: 25.2192 m     Kecepatan: -38.96385289038926 m/s\n",
            "Waktu: 3.89 s     Posisi: 24.8296 m     Kecepatan: -39.06674990967958 m/s\n",
            "Waktu: 3.9 s     Posisi: 24.4389 m     Kecepatan: -39.16965986117888 m/s\n",
            "Waktu: 3.91 s     Posisi: 24.0472 m     Kecepatan: -39.2725827465125 m/s\n",
            "Waktu: 3.92 s     Posisi: 23.6545 m     Kecepatan: -39.37551856730597 m/s\n",
            "Waktu: 3.93 s     Posisi: 23.2607 m     Kecepatan: -39.478467325185036 m/s\n",
            "Waktu: 3.94 s     Posisi: 22.866 m     Kecepatan: -39.581429021775655 m/s\n",
            "Waktu: 3.95 s     Posisi: 22.4701 m     Kecepatan: -39.68440365870397 m/s\n",
            "Waktu: 3.96 s     Posisi: 22.0733 m     Kecepatan: -39.78739123759634 m/s\n",
            "Waktu: 3.97 s     Posisi: 21.6754 m     Kecepatan: -39.89039176007932 m/s\n",
            "Waktu: 3.98 s     Posisi: 21.2765 m     Kecepatan: -39.993405227779675 m/s\n",
            "Waktu: 3.99 s     Posisi: 20.8766 m     Kecepatan: -40.096431642324376 m/s\n",
            "Waktu: 4.0 s     Posisi: 20.4756 m     Kecepatan: -40.1994710053406 m/s\n",
            "Waktu: 4.01 s     Posisi: 20.0736 m     Kecepatan: -40.30252331845571 m/s\n",
            "Waktu: 4.02 s     Posisi: 19.6706 m     Kecepatan: -40.40558858329731 m/s\n",
            "Waktu: 4.03 s     Posisi: 19.2665 m     Kecepatan: -40.50866680149317 m/s\n",
            "Waktu: 4.04 s     Posisi: 18.8615 m     Kecepatan: -40.61175797467129 m/s\n",
            "Waktu: 4.05 s     Posisi: 18.4553 m     Kecepatan: -40.71486210445987 m/s\n",
            "Waktu: 4.06 s     Posisi: 18.0482 m     Kecepatan: -40.8179791924873 m/s\n",
            "Waktu: 4.07 s     Posisi: 17.64 m     Kecepatan: -40.921109240382194 m/s\n",
            "Waktu: 4.08 s     Posisi: 17.2308 m     Kecepatan: -41.02425224977336 m/s\n",
            "Waktu: 4.09 s     Posisi: 16.8206 m     Kecepatan: -41.127408222289816 m/s\n",
            "Waktu: 4.1 s     Posisi: 16.4093 m     Kecepatan: -41.230577159560774 m/s\n",
            "Waktu: 4.11 s     Posisi: 15.997 m     Kecepatan: -41.33375906321566 m/s\n",
            "Waktu: 4.12 s     Posisi: 15.5836 m     Kecepatan: -41.43695393488411 m/s\n",
            "Waktu: 4.13 s     Posisi: 15.1693 m     Kecepatan: -41.54016177619595 m/s\n",
            "Waktu: 4.14 s     Posisi: 14.7539 m     Kecepatan: -41.64338258878122 m/s\n",
            "Waktu: 4.15 s     Posisi: 14.3374 m     Kecepatan: -41.74661637427017 m/s\n",
            "Waktu: 4.16 s     Posisi: 13.92 m     Kecepatan: -41.849863134293244 m/s\n",
            "Waktu: 4.17 s     Posisi: 13.5015 m     Kecepatan: -41.953122870481096 m/s\n",
            "Waktu: 4.18 s     Posisi: 13.0819 m     Kecepatan: -42.05639558446458 m/s\n",
            "Waktu: 4.19 s     Posisi: 12.6614 m     Kecepatan: -42.15968127787477 m/s\n",
            "Waktu: 4.2 s     Posisi: 12.2398 m     Kecepatan: -42.262979952342924 m/s\n",
            "Waktu: 4.21 s     Posisi: 11.8172 m     Kecepatan: -42.36629160950052 m/s\n",
            "Waktu: 4.22 s     Posisi: 11.3935 m     Kecepatan: -42.46961625097924 m/s\n",
            "Waktu: 4.23 s     Posisi: 10.9688 m     Kecepatan: -42.572953878410964 m/s\n",
            "Waktu: 4.24 s     Posisi: 10.5431 m     Kecepatan: -42.67630449342778 m/s\n",
            "Waktu: 4.25 s     Posisi: 10.1163 m     Kecepatan: -42.77966809766198 m/s\n",
            "Waktu: 4.26 s     Posisi: 9.6885 m     Kecepatan: -42.88304469274607 m/s\n",
            "Waktu: 4.27 s     Posisi: 9.2597 m     Kecepatan: -42.98643428031274 m/s\n",
            "Waktu: 4.28 s     Posisi: 8.8298 m     Kecepatan: -43.08983686199492 m/s\n",
            "Waktu: 4.29 s     Posisi: 8.3989 m     Kecepatan: -43.193252439425706 m/s\n",
            "Waktu: 4.3 s     Posisi: 7.967 m     Kecepatan: -43.29668101423842 m/s\n",
            "Waktu: 4.31 s     Posisi: 7.534 m     Kecepatan: -43.4001225880666 m/s\n",
            "Waktu: 4.32 s     Posisi: 7.1 m     Kecepatan: -43.50357716254397 m/s\n",
            "Waktu: 4.33 s     Posisi: 6.665 m     Kecepatan: -43.60704473930446 m/s\n",
            "Waktu: 4.34 s     Posisi: 6.2289 m     Kecepatan: -43.71052531998222 m/s\n",
            "Waktu: 4.35 s     Posisi: 5.7918 m     Kecepatan: -43.81401890621159 m/s\n",
            "Waktu: 4.36 s     Posisi: 5.3537 m     Kecepatan: -43.91752549962712 m/s\n",
            "Waktu: 4.37 s     Posisi: 4.9145 m     Kecepatan: -44.02104510186357 m/s\n",
            "Waktu: 4.38 s     Posisi: 4.4743 m     Kecepatan: -44.124577714555905 m/s\n",
            "Waktu: 4.39 s     Posisi: 4.033 m     Kecepatan: -44.22812333933929 m/s\n",
            "Waktu: 4.4 s     Posisi: 3.5907 m     Kecepatan: -44.3316819778491 m/s\n",
            "Waktu: 4.41 s     Posisi: 3.1474 m     Kecepatan: -44.43525363172092 m/s\n",
            "Waktu: 4.42 s     Posisi: 2.7031 m     Kecepatan: -44.53883830259053 m/s\n",
            "Waktu: 4.43 s     Posisi: 2.2577 m     Kecepatan: -44.642435992093915 m/s\n",
            "Waktu: 4.44 s     Posisi: 1.8113 m     Kecepatan: -44.74604670186728 m/s\n",
            "Waktu: 4.45 s     Posisi: 1.3638 m     Kecepatan: -44.84967043354702 m/s\n",
            "Waktu: 4.46 s     Posisi: 0.9153 m     Kecepatan: -44.95330718876974 m/s\n",
            "Waktu: 4.47 s     Posisi: 0.4658 m     Kecepatan: -45.05695696917226 m/s\n",
            "Waktu: 4.48 s     Posisi: 0.0152 m     Kecepatan: -45.1606197763916 m/s\n"
          ]
        }
      ]
    },
    {
      "cell_type": "markdown",
      "source": [
        "# Simulasi Model dengan perubahan parameter (dt, K, m, y)\n",
        "Simulasi model dengan perubahan parameter seperti dt, K, m, dan y dilakukan untuk memahami bagaimana perubahan nilai-nilai ini memengaruhi pergerakan sebuah bola dengan mempertimbangkan gaya gravitasi dan hambatan udara."
      ],
      "metadata": {
        "id": "YLyO1OqZFCgn"
      }
    },
    {
      "cell_type": "markdown",
      "source": [
        "## Simulasi model dengan perubahan parameter H (y)"
      ],
      "metadata": {
        "id": "TMeTekkot1YI"
      }
    },
    {
      "cell_type": "code",
      "source": [
        "# Fungsi untuk simulasi bola dengan perubahan parameter H\n",
        "def plot_simulation(y_initial, dt, K, m, model_name):\n",
        "    t = 0  # Waktu awal\n",
        "    y = y_initial\n",
        "    v = 0\n",
        "    a = 9.8\n",
        "    r = 0.2\n",
        "    rho = 925\n",
        "\n",
        "    time_points = []\n",
        "    position_points = []\n",
        "\n",
        "    while y >= 0:  # Loop sampai bola menyentuh tanah (y=0)\n",
        "        time_points.append(t)\n",
        "        position_points.append(y)\n",
        "\n",
        "        v_new = -a * dt + v * (1 + K/m * dt)  # Hitung kecepatan pada waktu berikutnya\n",
        "        y_new = y + v * dt                    # Hitung posisi baru\n",
        "\n",
        "        # Update variabel untuk iterasi berikutnya\n",
        "        v = v_new\n",
        "        y = y_new\n",
        "        t += dt                              # Update waktu\n",
        "\n",
        "    print(\"Massa = \", calculate_mass(r, rho))\n",
        "    print(\"Konstanta = \", calculate_air_resistance_const(r))\n",
        "    print(\"Benda mencapai/mendekati permukaan tanah terjadi pada: \")\n",
        "    print(\"Waktu:\", round(t,4), \"s\", \"    Posisi:\", round(y,4), \"m\", \"    Kecepatan:\", round(v,4), \"m/s\")\n",
        "\n",
        "    plt.plot(time_points, position_points, label=model_name)\n",
        "\n",
        "\n",
        "# Parameter simulasi\n",
        "dt = 0.01\n",
        "\n",
        "# Model 1\n",
        "print(\"\")\n",
        "print(\"Model 1\")\n",
        "plot_simulation(100, dt, K, m, \"Model 1\")\n",
        "\n",
        "# Model 2\n",
        "print(\"\")\n",
        "print(\"Model 2\")\n",
        "plot_simulation(1000, dt, K, m, \"Model 2\")\n",
        "\n",
        "# Model 3\n",
        "print(\"\")\n",
        "print(\"Model 3\")\n",
        "plot_simulation(10000, dt, K, m, \"Model 3\")\n",
        "\n",
        "# Cetak plot\n",
        "print(\"\")\n",
        "plt.title(\"Pergerakan Bola Terhadap Waktu\")\n",
        "plt.xlabel(\"Waktu (s)\")\n",
        "plt.ylabel(\"Posisi (m)\")\n",
        "plt.legend()\n",
        "plt.grid(True)\n",
        "plt.show()\n",
        "\n"
      ],
      "metadata": {
        "colab": {
          "base_uri": "https://localhost:8080/",
          "height": 802
        },
        "id": "5Vw_k86PmE0S",
        "outputId": "ea1b283c-c420-4e67-9f7a-69f3dbbb1865"
      },
      "execution_count": null,
      "outputs": [
        {
          "output_type": "stream",
          "name": "stdout",
          "text": [
            "\n",
            "Model 1\n",
            "Massa =  30.98\n",
            "Konstanta =  0.38936000000000004\n",
            "Benda mencapai/mendekati permukaan tanah terjadi pada: \n",
            "Waktu: 4.49 s     Posisi: -0.4364 m     Kecepatan: -45.2643 m/s\n",
            "\n",
            "Model 2\n",
            "Massa =  30.98\n",
            "Konstanta =  0.38936000000000004\n",
            "Benda mencapai/mendekati permukaan tanah terjadi pada: \n",
            "Waktu: 13.88 s     Posisi: -0.5694 m     Kecepatan: -148.5993 m/s\n",
            "\n",
            "Model 3\n",
            "Massa =  30.98\n",
            "Konstanta =  0.38936000000000004\n",
            "Benda mencapai/mendekati permukaan tanah terjadi pada: \n",
            "Waktu: 41.29 s     Posisi: -4.2177 m     Kecepatan: -530.3761 m/s\n",
            "\n"
          ]
        },
        {
          "output_type": "display_data",
          "data": {
            "text/plain": [
              "<Figure size 640x480 with 1 Axes>"
            ],
            "image/png": "[encoded data removed]"
          },
          "metadata": {}
        }
      ]
    },
    {
      "cell_type": "markdown",
      "source": [
        "Analisis pengaruh perubahan parameter H terhadap performa solusi numerik dapat dilakukan dengan membandingkan hasil simulasi dari ketiga model. Berikut hasil analsiisnya :  \n",
        "- Terlihat bahwa massa dan koefisien yang dihasilkan oleh ketiga model tetap sama. Ini menunjukkan bahwa perubahan parameter H tidak mempengaruhi massa dan konstanta benda.\n",
        "- Terlihat bahwa waktu yang dibutuhkan oleh model untuk menyelesaikan pergerakan juga meningkat seiring dengan peningkatan parameter H. Ini menunjukkan bahwa semakin tinggi nilai parameter H, semakin lama waktu yang dibutuhkan untuk menyelesaikan pergerakan.\n",
        "- Posisi akhir dan kecepatan akhir juga mengalami perubahan yang signifikan seiring dengan peningkatan ketinggian (H).\n",
        "- Semakin tinggi benda, semakin besar perubahan dalam posisi dan kecepatan akhirnya. Hal ini juga sesuai dengan hukum gravitasi Newton, dimana gaya gravitasi semakin besar seiring dengan peningkatan ketinggian.\n",
        "\n"
      ],
      "metadata": {
        "id": "2J1wxGMMG3GM"
      }
    },
    {
      "cell_type": "markdown",
      "source": [
        "## Simulasi model dengan perubahan parameter dt"
      ],
      "metadata": {
        "id": "eXTdatvMuRZR"
      }
    },
    {
      "cell_type": "code",
      "source": [
        "def plot_simulation(y_initial, dt_values, K, m, labels):\n",
        "    plt.figure(figsize=(10, 6))\n",
        "    model = 0\n",
        "\n",
        "    for i, dt in enumerate(dt_values):\n",
        "        t = 0  # Waktu awal\n",
        "        y = y_initial\n",
        "        v = 0\n",
        "        a = 9.8\n",
        "\n",
        "        time_list = []\n",
        "        position_list = []\n",
        "\n",
        "        while y >= 0:  # Loop sampai bola menyentuh tanah (y=0)\n",
        "            v_new = -a * dt + v * (1 + K/m * dt)  # Hitung kecepatan pada waktu berikutnya\n",
        "            y_new = y + v * dt                    # Hitung posisi baru\n",
        "            # Update variabel untuk iterasi berikutnya\n",
        "            v = v_new\n",
        "            y = y_new\n",
        "            t += dt                               # Update waktu\n",
        "\n",
        "\n",
        "            time_list.append(t)\n",
        "            position_list.append(y)\n",
        "\n",
        "        print(\"\")\n",
        "        print(\"Massa = \", calculate_mass(r, rho))\n",
        "        print(\"Konstanta = \", calculate_air_resistance_const(r))\n",
        "        print(\"Model:\", labels[i])  # Menampilkan judul output untuk setiap model\n",
        "        print(\"Benda mencapai/mendekati permukaan tanah terjadi pada: \")\n",
        "        print(\"Waktu:\", round(t,4), \"s\", \"    Posisi:\", round(y,4), \"m\", \"    Kecepatan:\", round(v,4), \"m/s\")\n",
        "        plt.plot(time_list, position_list, label=labels[i])\n",
        "\n",
        "    plt.xlabel('Waktu (s)')\n",
        "    plt.ylabel('Posisi (m)')\n",
        "    plt.title('Simulasi Pergerakan Bola')\n",
        "    plt.legend()\n",
        "    plt.grid(True)\n",
        "    plt.show()\n",
        "\n",
        "\n",
        "# Simulasi\n",
        "y = 100\n",
        "r = 0.2\n",
        "rho = 925\n",
        "dt_values = [0.01, 0.05, 1.00]  # Nilai dt untuk setiap model\n",
        "labels = ['Model 1 (dt = 0.01)', 'Model 2 (dt = 0.05)', 'Model 3 (dt = 1)']\n",
        "\n",
        "# Memanggil fungsi plot_simulation dengan parameter yang diberikan\n",
        "plot_simulation(y, dt_values, K, m, labels)\n"
      ],
      "metadata": {
        "colab": {
          "base_uri": "https://localhost:8080/",
          "height": 877
        },
        "id": "n6tqUSMXubX3",
        "outputId": "cb03c95c-d9aa-49b8-b205-01a0733516a5"
      },
      "execution_count": null,
      "outputs": [
        {
          "output_type": "stream",
          "name": "stdout",
          "text": [
            "\n",
            "Massa =  30.98\n",
            "Konstanta =  0.38936000000000004\n",
            "Model: Model 1 (dt = 0.01)\n",
            "Benda mencapai/mendekati permukaan tanah terjadi pada: \n",
            "Waktu: 4.49 s     Posisi: -0.4364 m     Kecepatan: -45.2643 m/s\n",
            "\n",
            "Massa =  30.98\n",
            "Konstanta =  0.38936000000000004\n",
            "Model: Model 2 (dt = 0.05)\n",
            "Benda mencapai/mendekati permukaan tanah terjadi pada: \n",
            "Waktu: 4.55 s     Posisi: -2.224 m     Kecepatan: -45.8748 m/s\n",
            "\n",
            "Massa =  30.98\n",
            "Konstanta =  0.38936000000000004\n",
            "Model: Model 3 (dt = 1)\n",
            "Benda mencapai/mendekati permukaan tanah terjadi pada: \n",
            "Waktu: 6.0 s     Posisi: -49.4867 m     Kecepatan: -60.6788 m/s\n"
          ]
        },
        {
          "output_type": "display_data",
          "data": {
            "text/plain": [
              "<Figure size 1000x600 with 1 Axes>"
            ],
            "image/png": "[encoded data removed]"
          },
          "metadata": {}
        }
      ]
    },
    {
      "cell_type": "markdown",
      "source": [
        "Analisis pengaruh perubahan parameter Δt terhadap performa solusi numerik dapat dilakukan dengan membandingkan hasil simulasi dari ketiga model. Berikut analisisnya :\n",
        "- Terlihat bahwa massa dan konstanta yang dihasilkan oleh ketiga model tetap sama. Ini menunjukkan bahwa perubahan parameter H tidak mempengaruhi massa dan konstanta benda.\n",
        "- Semakin besar selang waktu (dt), semakin lambat benda mencapai atau mendekati permukaan tanah. Ini disebabkan oleh fakta bahwa semakin kecil selang waktu yang digunakan dalam simulasi, semakin akurat hasilnya karena perubahan-perubahan yang lebih kecil dalam pergerakan benda dapat direkam dan dipertimbangkan.\n",
        "- Semakin besar selang waktu (dt), semakin jauh posisi akhir benda dari permukaan tanah. Hal ini sesuai dengan fenomena yang dapat dipahami, karena semakin besar selang waktu yang digunakan dalam simulasi, semakin besar potensi untuk terjadi perbedaan signifikan dalam pergerakan benda dan posisi akhirnya\n"
      ],
      "metadata": {
        "id": "LEShAwDCHb6C"
      }
    },
    {
      "cell_type": "markdown",
      "source": [
        "## Simulasi model dengan perubahan parameter m dan K"
      ],
      "metadata": {
        "id": "D3RFiGayyAtc"
      }
    },
    {
      "cell_type": "markdown",
      "source": [
        "Untuk menghitung massa dan koefisien hambatan udara, salah satu parameter yang dibutuhkan adalah jari jari\n",
        "\n",
        "Dalam pemodelan ini, dicoba tiga model yang memiliki jari jari berbeda sehingga akan mempengaruhi hasil perhitungan K dan massa pada masing masing model\n"
      ],
      "metadata": {
        "id": "_9eatHzVICDs"
      }
    },
    {
      "cell_type": "code",
      "source": [
        "def plot_simulation(y_initial, dt_values, K_values, m_values, labels):\n",
        "    plt.figure(figsize=(10, 6))\n",
        "\n",
        "    for i, (dt, K, m) in enumerate(zip(dt_values, K_values, m_values)):\n",
        "        t = 0  # Waktu awal\n",
        "        y = y_initial\n",
        "        v = 0\n",
        "        a = 9.8\n",
        "\n",
        "        time_list = []\n",
        "        position_list = []\n",
        "\n",
        "        while y >= 0:                             # Loop sampai bola menyentuh tanah (y=0)\n",
        "            v_new = -a * dt + v * (1 + K/m * dt)  # Hitung kecepatan pada waktu berikutnya\n",
        "            y_new = y + v * dt                    # Hitung posisi baru\n",
        "\n",
        "            # Update variabel untuk iterasi berikutnya\n",
        "            v = v_new\n",
        "            y = y_new\n",
        "            t += dt                              # Update waktu\n",
        "\n",
        "            time_list.append(t)\n",
        "            position_list.append(y)\n",
        "\n",
        "        print(\"\")\n",
        "        print(\"Model 1, 2, dan 3 secara berturut-turut\")\n",
        "        print(\"Benda mencapai/mendekati permukaan tanah terjadi pada: \")\n",
        "        print(\"Waktu:\", round(t,4), \"s\", \"    Posisi:\", round(y,4), \"m\", \"    Kecepatan:\", round(v,4), \"m/s\")\n",
        "        plt.plot(time_list, position_list, label=labels[i])\n",
        "\n",
        "    plt.xlabel('Waktu (s)')\n",
        "    plt.ylabel('Posisi (m)')\n",
        "    print(\"\")\n",
        "    plt.title('Simulasi Pergerakan Bola')\n",
        "    plt.legend()\n",
        "    plt.grid(True)\n",
        "    plt.show()\n",
        "\n",
        "# Parameter :\n",
        "y_initial = 100\n",
        "dt_values = [0.01, 0.01, 0.01]  # dt sama untuk semua model\n",
        "rho = 925\n",
        "\n",
        "\n",
        "\n",
        "print(\"Model 1\")\n",
        "# Model 1\n",
        "r = 0.2\n",
        "m1 = calculate_mass(r, rho)\n",
        "K1 = calculate_air_resistance_const(r)\n",
        "print(\"Massa : \", m1)\n",
        "print(\"Koefisien : \", K1)\n",
        "print(\"\")\n",
        "print(\"\")\n",
        "\n",
        "\n",
        "print(\"Model 2\")\n",
        "r = 0.8\n",
        "m2 = calculate_mass(r, rho)\n",
        "K2 = calculate_air_resistance_const(r)\n",
        "print(\"Massa : \", m2)\n",
        "print(\"Koefisien : \", K2)\n",
        "print(\"\")\n",
        "\n",
        "print(\"\")\n",
        "print(\"Model 3\")\n",
        "r = 0.24\n",
        "m3 = calculate_mass(r, rho)\n",
        "K3 = calculate_air_resistance_const(r)\n",
        "print(\"Massa : \", m3)\n",
        "print(\"Koefisien : \", K3)\n",
        "print(\"\")\n",
        "\n",
        "plot_simulation(y_initial, dt_values, [K1, K2, K3], [m1, m2, m3], ['Model 1', 'Model 2', 'Model 3'])\n"
      ],
      "metadata": {
        "colab": {
          "base_uri": "https://localhost:8080/",
          "height": 1000
        },
        "id": "v7cfYjcj2Q4V",
        "outputId": "1edb41c3-3b1f-4ed8-8d3f-4f448af1be43"
      },
      "execution_count": null,
      "outputs": [
        {
          "output_type": "stream",
          "name": "stdout",
          "text": [
            "Model 1\n",
            "Massa :  30.98\n",
            "Koefisien :  0.38936000000000004\n",
            "\n",
            "\n",
            "Model 2\n",
            "Massa :  1982.81\n",
            "Koefisien :  6.229760000000001\n",
            "\n",
            "\n",
            "Model 3\n",
            "Massa :  53.54\n",
            "Koefisien :  0.5606784\n",
            "\n",
            "\n",
            "Model 1, 2, dan 3 secara berturut-turut\n",
            "Benda mencapai/mendekati permukaan tanah terjadi pada: \n",
            "Waktu: 4.49 s     Posisi: -0.4364 m     Kecepatan: -45.2643 m/s\n",
            "\n",
            "Model 1, 2, dan 3 secara berturut-turut\n",
            "Benda mencapai/mendekati permukaan tanah terjadi pada: \n",
            "Waktu: 4.52 s     Posisi: -0.3599 m     Kecepatan: -44.6113 m/s\n",
            "\n",
            "Model 1, 2, dan 3 secara berturut-turut\n",
            "Benda mencapai/mendekati permukaan tanah terjadi pada: \n",
            "Waktu: 4.49 s     Posisi: -0.1206 m     Kecepatan: -45.0505 m/s\n",
            "\n"
          ]
        },
        {
          "output_type": "display_data",
          "data": {
            "text/plain": [
              "<Figure size 1000x600 with 1 Axes>"
            ],
            "image/png": "[encoded data removed]"
          },
          "metadata": {}
        }
      ]
    },
    {
      "cell_type": "markdown",
      "source": [
        "Analisis pengaruh perubahan parameter K dan m terhadap performa solusi numerik dapat dilakukan dengan membandingkan hasil simulasi dari ketiga model tersebut.\n",
        "- Perubahan parameter massa (m) dan konstanta hambatan udara (k) memiliki pengaruh yang signifikan terhadap hasil simulasi numerik. Terlihat bahwa pada setiap model dengan nilai parameter yang berbeda, terdapat perbedaan yang cukup besar dalam waktu, posisi, dan kecepatan akhir benda.\n",
        "- Pada model 2 dengan massa yang jauh lebih besar (1982.81 kg) dan konstanta hambatan udara yang lebih tinggi (6.22 kg/m), terjadi perbedaan signifikan dalam posisi akhir benda dibandingkan dengan model 1 dan 3. Hal ini menunjukkan bahwa perubahan massa dan konstanta hambatan udara dapat mempengaruhi pergerakan benda secara signifikan.\n",
        "- Meskipun massa pada model 3 (53.54 kg) lebih kecil dari model 1 (30.98 kg), namun hasil simulasi menunjukkan bahwa posisi akhirnya lebih dekat dengan model 1. Ini menunjukkan bahwa faktor konstanta hambatan udara (k) juga memainkan peran penting dalam menentukan pergerakan benda.\n",
        "\n",
        "\n"
      ],
      "metadata": {
        "id": "ZWbg941SIJJs"
      }
    },
    {
      "cell_type": "markdown",
      "source": [
        "## Kesimpulan\n",
        "Kesimpulan hasil analisis pada solusi numerik :\n",
        "1.\tPerubahan parameter H memengaruhi waktu, posisi, dan kecepatan akhir benda, namun tidak memengaruhi massa atau koefisien benda. Hal ini menunjukkan bahwa parameter H berperan dalam menentukan skala atau dimensi dari benda, sehingga mempengaruhi kinematika benda tetapi tidak memengaruhi massa atau koefisien benda secara langsung.\n",
        "2.\tPerubahan parameter Δt memengaruhi waktu, posisi, dan kecepatan akhir benda, namun tidak memengaruhi massa atau koefisien benda. Hal ini menunjukkan bahwa parameter Δt berperan dalam menentukan interval waktu antara iterasi dalam simulasi numerik, sehingga mempengaruhi resolusi waktu dalam memodelkan pergerakan benda. Semakin besar nilai Δt, semakin kasar resolusi waktu yang digunakan dalam simulasi, yang dapat mempengaruhi akurasi hasil.\n",
        "3.\tPerubahan parameter massa (m) dan konstanta hambatan udara (k) memiliki pengaruh yang signifikan terhadap hasil simulasi numerik. Terlihat bahwa pada setiap model dengan nilai parameter yang berbeda, terdapat perbedaan dalam waktu, posisi, dan kecepatan akhir benda.\n"
      ],
      "metadata": {
        "id": "cJosbvOGKo1q"
      }
    }
  ]
}